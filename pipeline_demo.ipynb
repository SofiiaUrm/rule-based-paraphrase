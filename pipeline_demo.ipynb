{
 "cells": [
  {
   "cell_type": "code",
   "execution_count": null,
   "metadata": {},
   "outputs": [],
   "source": [
    "%pip install -r requirements.txt"
   ]
  },
  {
   "cell_type": "markdown",
   "metadata": {},
   "source": [
    "### Запуск пайплайна"
   ]
  },
  {
   "cell_type": "code",
   "execution_count": 6,
   "metadata": {},
   "outputs": [],
   "source": [
    "from process.pipeline import ParaphrasePipeline\n",
    "from process import modules"
   ]
  },
  {
   "cell_type": "code",
   "execution_count": null,
   "metadata": {},
   "outputs": [],
   "source": [
    "p = ParaphrasePipeline(modules=[\n",
    "    modules.CapitalizeSubjectsModule(),\n",
    "])\n",
    "p.load()"
   ]
  },
  {
   "cell_type": "code",
   "execution_count": 8,
   "metadata": {},
   "outputs": [
    {
     "data": {
      "text/plain": [
       "['ЭТО первое предложение.', 'ЭТО второе предложение.']"
      ]
     },
     "execution_count": 8,
     "metadata": {},
     "output_type": "execute_result"
    }
   ],
   "source": [
    "p.run([\"Это первое предложение.\", \"Это второе предложение.\"])"
   ]
  },
  {
   "cell_type": "markdown",
   "metadata": {},
   "source": [
    "### Добавление нового модуля"
   ]
  },
  {
   "cell_type": "markdown",
   "metadata": {},
   "source": [
    "Один модуль - один скрипт (пример - `process/modules/capitalize_subjects.py`).\n",
    "\n",
    "1. Положить скрипт в `process/modules/`.\n",
    "2. Добавить импорт нового класса в файл `process/modules/__init__.py`"
   ]
  },
  {
   "cell_type": "code",
   "execution_count": 9,
   "metadata": {},
   "outputs": [],
   "source": [
    "from typing import List\n",
    "\n",
    "from process.module import ParaphraseModule\n",
    "from process.preprocessing_utils import PreprocessingUtils\n",
    "\n",
    "\n",
    "class CapitalizeVerbsModule(ParaphraseModule):\n",
    "    def __init__(self, name=\"capitalize_nouns\") -> None:\n",
    "        super().__init__(name=name)\n",
    "    \n",
    "    def load(self, preproc_utils: PreprocessingUtils) -> None:\n",
    "        # load any tools as `preproc_utils` attributes\n",
    "        self.loaded = True\n",
    "    \n",
    "    def process(self, input_text: str, preproc_utils: PreprocessingUtils) -> str:\n",
    "        output_text = \"\"\n",
    "        last_char = 0\n",
    "        parsed_sent = preproc_utils.stanza_parse(input_text)\n",
    "        for word in parsed_sent.words:\n",
    "            if word.upos == \"VERB\":\n",
    "                word.text = word.text.upper()\n",
    "            if word.start_char > last_char:\n",
    "                output_text += \" \"\n",
    "            output_text += word.text\n",
    "            last_char = word.end_char\n",
    "        return output_text\n",
    "\n",
    "    def process_batch(self, inputs: List[str], preproc_utils: PreprocessingUtils) -> List[str]:\n",
    "        outputs = []\n",
    "        for input_text in inputs:\n",
    "            outputs.append(self.process(input_text, preproc_utils))\n",
    "        return outputs\n",
    "\n",
    "# эти строки нужно добавить в конце скрипта модуля\n",
    "# if __name__ == \"__main__\":\n",
    "#     print(\"This module is not callable\")\n",
    "    # exit()"
   ]
  },
  {
   "cell_type": "code",
   "execution_count": null,
   "metadata": {},
   "outputs": [],
   "source": [
    "p = ParaphrasePipeline(modules=[\n",
    "    CapitalizeVerbsModule(),  # пока класс создан только локально, обращаемся к нему без префикса `modules.`, а при импорте из библиотеки уже нужно будет добавить префикс\n",
    "])\n",
    "p.load()"
   ]
  },
  {
   "cell_type": "code",
   "execution_count": 11,
   "metadata": {},
   "outputs": [
    {
     "data": {
      "text/plain": [
       "['Если я ЧЕШУ в затылке, не беда!']"
      ]
     },
     "execution_count": 11,
     "metadata": {},
     "output_type": "execute_result"
    }
   ],
   "source": [
    "p.run([\"Если я чешу в затылке, не беда!\"])"
   ]
  }
 ],
 "metadata": {
  "kernelspec": {
   "display_name": "Python 3.10.5 64-bit",
   "language": "python",
   "name": "python3"
  },
  "language_info": {
   "codemirror_mode": {
    "name": "ipython",
    "version": 3
   },
   "file_extension": ".py",
   "mimetype": "text/x-python",
   "name": "python",
   "nbconvert_exporter": "python",
   "pygments_lexer": "ipython3",
   "version": "3.10.5"
  },
  "orig_nbformat": 4,
  "vscode": {
   "interpreter": {
    "hash": "aee8b7b246df8f9039afb4144a1f6fd8d2ca17a180786b69acc140d282b71a49"
   }
  }
 },
 "nbformat": 4,
 "nbformat_minor": 2
}
