{
 "cells": [
  {
   "cell_type": "code",
   "execution_count": 5,
   "metadata": {},
   "outputs": [],
   "source": [
    "from process.pipeline import ParaphrasePipeline\n",
    "from process.modules.capitalize_subjects import CapitalizeSubjectsModule"
   ]
  },
  {
   "cell_type": "code",
   "execution_count": 7,
   "metadata": {},
   "outputs": [
    {
     "name": "stderr",
     "output_type": "stream",
     "text": [
      "Downloading https://raw.githubusercontent.com/stanfordnlp/stanza-resources/main/resources_1.4.1.json: 193kB [00:00, 19.0MB/s]                    \n",
      "2022-12-06 17:21:44 INFO: Downloading default packages for language: ru (Russian) ...\n",
      "2022-12-06 17:21:48 INFO: File exists: /Users/ulyanaisaeva/stanza_resources/ru/default.zip\n",
      "2022-12-06 17:22:02 INFO: Finished downloading models and saved to /Users/ulyanaisaeva/stanza_resources.\n",
      "2022-12-06 17:22:02 INFO: Checking for updates to resources.json in case models have been updated.  Note: this behavior can be turned off with download_method=None or download_method=DownloadMethod.REUSE_RESOURCES\n",
      "Downloading https://raw.githubusercontent.com/stanfordnlp/stanza-resources/main/resources_1.4.1.json: 193kB [00:00, 27.0MB/s]                    \n",
      "2022-12-06 17:22:06 INFO: Loading these models for language: ru (Russian):\n",
      "=========================\n",
      "| Processor | Package   |\n",
      "-------------------------\n",
      "| tokenize  | syntagrus |\n",
      "| pos       | syntagrus |\n",
      "| lemma     | syntagrus |\n",
      "| depparse  | syntagrus |\n",
      "| ner       | wikiner   |\n",
      "=========================\n",
      "\n",
      "2022-12-06 17:22:06 INFO: Use device: cpu\n",
      "2022-12-06 17:22:06 INFO: Loading: tokenize\n",
      "2022-12-06 17:22:06 INFO: Loading: pos\n",
      "2022-12-06 17:22:06 INFO: Loading: lemma\n",
      "2022-12-06 17:22:07 INFO: Loading: depparse\n",
      "2022-12-06 17:22:07 INFO: Loading: ner\n",
      "2022-12-06 17:22:11 INFO: Done loading processors!\n"
     ]
    }
   ],
   "source": [
    "p = ParaphrasePipeline(modules=[\n",
    "    CapitalizeSubjectsModule(),\n",
    "])\n",
    "p.load()"
   ]
  },
  {
   "cell_type": "code",
   "execution_count": 8,
   "metadata": {},
   "outputs": [
    {
     "data": {
      "text/plain": [
       "['ЭТО первое предложение.', 'ЭТО второе предложение.']"
      ]
     },
     "execution_count": 8,
     "metadata": {},
     "output_type": "execute_result"
    }
   ],
   "source": [
    "p.run([\"Это первое предложение.\", \"Это второе предложение.\"])"
   ]
  }
 ],
 "metadata": {
  "kernelspec": {
   "display_name": "Python 3.10.4 ('.venv': venv)",
   "language": "python",
   "name": "python3"
  },
  "language_info": {
   "codemirror_mode": {
    "name": "ipython",
    "version": 3
   },
   "file_extension": ".py",
   "mimetype": "text/x-python",
   "name": "python",
   "nbconvert_exporter": "python",
   "pygments_lexer": "ipython3",
   "version": "3.10.4"
  },
  "orig_nbformat": 4,
  "vscode": {
   "interpreter": {
    "hash": "c991ccd110e4fdcdee4e85effa63b7fd2e41d70829980c2ee68d6141b6af19ad"
   }
  }
 },
 "nbformat": 4,
 "nbformat_minor": 2
}
